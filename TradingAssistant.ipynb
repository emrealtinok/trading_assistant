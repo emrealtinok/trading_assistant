{
  "nbformat": 4,
  "nbformat_minor": 0,
  "metadata": {
    "colab": {
      "name": "TradingAssistant.ipynb",
      "provenance": [],
      "machine_shape": "hm",
      "mount_file_id": "18iVpvVHfuXHQwPvwpcW7oMJ0fGgICbwP",
      "authorship_tag": "ABX9TyMhkWTq2miFZcTo99dF6CrZ",
      "include_colab_link": true
    },
    "kernelspec": {
      "name": "python3",
      "display_name": "Python 3"
    },
    "accelerator": "GPU"
  },
  "cells": [
    {
      "cell_type": "markdown",
      "metadata": {
        "id": "view-in-github",
        "colab_type": "text"
      },
      "source": [
        "<a href=\"https://colab.research.google.com/github/emrealtinok/trading_assistant/blob/main/TradingAssistant.ipynb\" target=\"_parent\"><img src=\"https://colab.research.google.com/assets/colab-badge.svg\" alt=\"Open In Colab\"/></a>"
      ]
    },
    {
      "cell_type": "code",
      "metadata": {
        "id": "PEMhjpTkb53Y"
      },
      "source": [
        "import pandas as pd\n",
        "import numpy as np\n",
        "import tensorflow as tf\n",
        "from sklearn.preprocessing import MinMaxScaler"
      ],
      "execution_count": 1,
      "outputs": []
    },
    {
      "cell_type": "code",
      "metadata": {
        "colab": {
          "base_uri": "https://localhost:8080/"
        },
        "id": "N3xisP0KcMJ9",
        "outputId": "7621fca9-8883-4c4a-9b1a-a7bb8de126a8"
      },
      "source": [
        "# Reads the data\n",
        "\n",
        "df = pd.read_csv('drive/My Drive/GBPAUD_M15.csv',\n",
        "                 sep='\\t',\n",
        "                 header=0,\n",
        "                 names=['datetime', 'open', 'high', 'low', 'close', 'volume']\n",
        "                 )\n",
        "\n",
        "# Removes infs and fills empty cells\n",
        "\n",
        "df = df.replace([np.inf, -np.inf], np.nan)\n",
        "df.fillna(method='bfill', inplace=True)\n",
        "\n",
        "# Sets the index\n",
        "df.set_index(\"datetime\", inplace=True, drop=True)\n",
        "\n",
        "print(df)"
      ],
      "execution_count": 2,
      "outputs": [
        {
          "output_type": "stream",
          "text": [
            "                        open     high      low    close  volume\n",
            "datetime                                                       \n",
            "2013-01-23 20:00:00  1.50137  1.50181  1.50130  1.50157     648\n",
            "2013-01-23 20:15:00  1.50159  1.50223  1.50156  1.50204     567\n",
            "2013-01-23 20:30:00  1.50202  1.50239  1.50195  1.50223     436\n",
            "2013-01-23 20:45:00  1.50223  1.50224  1.50157  1.50171     539\n",
            "2013-01-23 21:00:00  1.50167  1.50205  1.50154  1.50201     538\n",
            "...                      ...      ...      ...      ...     ...\n",
            "2021-02-04 12:45:00  1.79066  1.79281  1.78991  1.79243    2544\n",
            "2021-02-04 13:00:00  1.79243  1.79362  1.79227  1.79333    3417\n",
            "2021-02-04 13:15:00  1.79338  1.79407  1.79239  1.79385    3085\n",
            "2021-02-04 13:30:00  1.79387  1.79637  1.79368  1.79620    3070\n",
            "2021-02-04 13:45:00  1.79626  1.79698  1.79531  1.79544    3110\n",
            "\n",
            "[200000 rows x 5 columns]\n"
          ],
          "name": "stdout"
        }
      ]
    },
    {
      "cell_type": "code",
      "metadata": {
        "id": "ea_HCq7jcrdo"
      },
      "source": [
        "# Price Change\n",
        "df['price_change'] = df['close'].diff()\n",
        "df['price_change_percentage'] = df['close'].pct_change()\n",
        "\n",
        "# Typical Price\n",
        "df['typical_price'] = (df['close'] + df['high'] + df['low']) / 3\n",
        "df['typical_price_change'] = df.typical_price.diff()\n",
        "df['typical_price_change_percentage'] = df['typical_price'].pct_change()\n",
        "\n",
        "# Simple Moving Average (short)\n",
        "window_sma1 = 12\n",
        "df['sma1'] = df.typical_price.rolling(window=window_sma1, min_periods=1).mean()\n",
        "\n",
        "# Simple Moving Average (long)\n",
        "window_sma2 = 24\n",
        "df['sma2'] = df.typical_price.rolling(window=window_sma2, min_periods=1).mean()\n",
        "\n",
        "# EMAs\n",
        "ema1 = df.typical_price.ewm(span=12, adjust=False).mean()\n",
        "ema2 = df.typical_price.ewm(span=24, adjust=False).mean()\n",
        "\n",
        "# SMA Cross \n",
        "sma_diff = df['sma1'] - df['sma2']\n",
        "sma_diff[sma_diff > 0] = 1\n",
        "sma_diff[sma_diff < 0] = -1\n",
        "sma_diff = sma_diff.diff()\n",
        "sma_diff[sma_diff == -2] = -1\n",
        "sma_diff[sma_diff == 2] = 1\n",
        "sma_diff[sma_diff == 0] = 0\n",
        "df['sma_cross'] = sma_diff\n",
        "\n",
        "# Standard Deviations\n",
        "std = df.typical_price.rolling(window=window_sma1, min_periods=1).std()\n",
        "std2 = df.typical_price.rolling(window=window_sma2, min_periods=1).std()\n",
        "\n",
        "# Bollinger Bands\n",
        "df['bb_upper_band1'] = df['sma1'] + 2 * std\n",
        "df['bb_lower_band1'] = df['sma1'] - 2 * std\n",
        "df['bb_band_diff1'] = df['bb_upper_band1'] - df['bb_lower_band1']\n",
        "df['bb_price_diff1'] = df['bb_upper_band1'] - df['typical_price']\n",
        "\n",
        "df['bb_upper_band2'] = df['sma2'] + 2 * std2\n",
        "df['bb_lower_band2'] = df['sma2'] - 2 * std2\n",
        "df['bb_band_diff2'] = df['bb_upper_band2'] - df['bb_lower_band2']\n",
        "df['bb_price_diff2'] = df['bb_upper_band2'] - df['typical_price']\n",
        "\n",
        "# Keltner Channels\n",
        "previous_close = df.close.shift(1)\n",
        "true_range1 = df.high - df.low\n",
        "true_range2 = df.high - previous_close\n",
        "true_range3 = previous_close - df.low\n",
        "true_range = pd.concat([true_range1, true_range2, true_range3], axis=1).max(axis=1)\n",
        "df['average_true_range'] = true_range.ewm(span=window_sma1, adjust=False).mean()\n",
        "df['kc_upper_band'] = ema1 + 2 * df['average_true_range']\n",
        "df['kc_lower_band'] = ema1 - 2 * df['average_true_range']\n",
        "\n",
        "# Ichimoku Kinko Hyo\n",
        "\n",
        "# Tenkan-sen\n",
        "nine_period_high = df['high'].rolling(window=12, min_periods=1).max()\n",
        "nine_period_low = df['low'].rolling(window=12, min_periods=1).min()\n",
        "df['tenkan_sen'] = (nine_period_high + nine_period_low) / 2\n",
        "\n",
        "# Kijun-sen (Base Line)\n",
        "period26_high = df.high.rolling(window=24, min_periods=1).max()\n",
        "period26_low = df.low.rolling(window=24, min_periods=1).min()\n",
        "df['kijun_sen'] = (period26_high + period26_low) / 2\n",
        "\n",
        "# Senkou Span A (Leading Span A)\n",
        "df['senkou_span_a'] = ((df['tenkan_sen'] + df['kijun_sen']) / 2).shift(24)\n",
        "\n",
        "# Senkou Span B (Leading Span B)\n",
        "period52_high = df.high.rolling(window=48, min_periods=1).max()\n",
        "period52_low = df.low.rolling(window=48, min_periods=1).min()\n",
        "df['senkou_span_b'] = ((period52_high + period52_low) / 2).shift(24)\n",
        "\n",
        "# Kumo (The Cloud)\n",
        "df['kumo'] = df['senkou_span_a'] - df['senkou_span_b']\n",
        "\n",
        "# Chikou Span\n",
        "df['chikou_span'] = df.close.shift(-24)\n",
        "\n",
        "# RSI\n",
        "window_rsi = 12\n",
        "gain = df.typical_price_change.copy()\n",
        "gain[gain < 0] = 0\n",
        "loss = df.typical_price_change.copy()\n",
        "loss[loss > 0] = 0\n",
        "loss = abs(loss)\n",
        "avg_gain = gain.rolling(window_rsi, min_periods=1).mean()\n",
        "avg_loss = loss.rolling(window_rsi, min_periods=1).mean()\n",
        "df['rsi'] = 100 - (100 / (1 + (avg_gain / avg_loss)))\n",
        "\n",
        "# Stochastic Oscillator\n",
        "window_stoc = 12\n",
        "lowest_low_so = df.low.rolling(window=window_stoc, min_periods=1).min()\n",
        "highest_high_so = df.high.rolling(window=window_stoc, min_periods=1).max()\n",
        "df['stochastic_%K'] = 100 * ((df['close'] - lowest_low_so) / (highest_high_so - lowest_low_so))\n",
        "df['stochastic_%D'] = df['stochastic_%K'].rolling(window=3, min_periods=1).mean()\n",
        "\n",
        "# MACD\n",
        "df['macd'] = ema1 - ema2\n",
        "df['macd_signal'] = df.macd.ewm(span=6, adjust=False).mean()\n",
        "df['macd_diff'] = df['macd'] - df['macd_signal']\n",
        "\n",
        "# Money Flow Index\n",
        "typical_price_change_direction = np.where(df['typical_price_change'] >= 0, 1, -1)\n",
        "df['raw_money_flow'] = typical_price_change_direction * df['typical_price'] * df['volume']\n",
        "positive_money_flow = df['raw_money_flow'].copy()\n",
        "positive_money_flow[positive_money_flow < 0] = 0\n",
        "negative_money_flow = df['raw_money_flow'].copy()\n",
        "negative_money_flow[negative_money_flow > 0] = 0\n",
        "positive_money_flow_14 = positive_money_flow.rolling(window=12, min_periods=1).sum()\n",
        "negative_money_flow_14 = negative_money_flow.rolling(window=12, min_periods=1).sum().abs()\n",
        "money_flow_ratio = positive_money_flow_14 / negative_money_flow_14\n",
        "df['money_flow_index'] = 100 - (100 / (1 + money_flow_ratio))\n",
        "\n",
        "# Chaikin Oscillator \n",
        "chaikin_n = ((df.close - df.low) - (df.high - df.close)) / (df.high - df.low)\n",
        "chaikin_m = chaikin_n * df.volume\n",
        "chaikin_adl = chaikin_m.shift(1) + chaikin_m\n",
        "chaikin_ema1 = chaikin_adl.ewm(span=3, adjust=False).mean()\n",
        "chaikin_ema2 = chaikin_adl.ewm(span=10, adjust=False).mean()\n",
        "df['chaikin_osc'] = chaikin_ema1 - chaikin_ema2\n",
        "\n",
        "# Know Sure Thing\n",
        "roc_10 = df.typical_price.pct_change(periods=10)\n",
        "roc_15 = df.typical_price.pct_change(periods=15)\n",
        "roc_20 = df.typical_price.pct_change(periods=20)\n",
        "roc_30 = df.typical_price.pct_change(periods=30)\n",
        "rcma_1 = roc_10.rolling(window=10, min_periods=1).mean()\n",
        "rcma_2 = roc_15.rolling(window=10, min_periods=1).mean()\n",
        "rcma_3 = roc_20.rolling(window=10, min_periods=1).mean()\n",
        "rcma_4 = roc_30.rolling(window=15, min_periods=1).mean()\n",
        "df['know_sure_thing'] = (rcma_1) + (rcma_2 * 2) + (rcma_3 * 3) + (rcma_4 * 4)\n",
        "kst_signal = df['know_sure_thing'].rolling(window=9, min_periods=1).mean()\n",
        "df['know_sure_thing_diff'] = df['know_sure_thing'] - kst_signal\n",
        "\n",
        "# Balance of Power\n",
        "bop = (df.close - df.open) / (df.high - df.low)\n",
        "df['balance_of_power'] = bop.rolling(window=9, min_periods=1).mean()\n",
        "\n",
        "# Ultimate Oscillator\n",
        "true_range_max = pd.concat([df.high, previous_close], axis=1).max(axis=1)\n",
        "true_range_min = pd.concat([df.low, previous_close], axis=1).min(axis=1)\n",
        "true_range_ult = true_range_max - true_range_min\n",
        "min_low_pc = pd.concat([df.low, previous_close], axis=1).min(axis=1)\n",
        "buying_pressure = df.close - min_low_pc\n",
        "avg_1 = buying_pressure.rolling(window=6, min_periods=1).sum() / true_range_ult.rolling(window=6, min_periods=1).sum()\n",
        "avg_2 = buying_pressure.rolling(window=12, min_periods=1).sum() / true_range_ult.rolling(window=12, min_periods=1).sum()\n",
        "avg_3 = buying_pressure.rolling(window=24, min_periods=1).sum() / true_range_ult.rolling(window=24, min_periods=1).sum()\n",
        "df['ultimate_osc'] = 100 * ((avg_1 * 4 + avg_2 * 2 + avg_3) / 7)\n",
        "\n",
        "# Average Directional Index\n",
        "\n",
        "plus_dm = df.high - df.high.shift(1)\n",
        "minus_dm = df.low.shift(1) - df.low\n",
        "df['plus_dm'] = np.where((plus_dm > minus_dm) & (plus_dm > 0), plus_dm, 0)\n",
        "df['minus_dm'] = np.where((minus_dm > plus_dm) & (minus_dm > 0), minus_dm, 0)\n",
        "plus_dm_smooth = plus_dm.ewm(span=12, adjust=False).mean()\n",
        "minus_dm_smooth = minus_dm.ewm(span=12, adjust=False).mean()\n",
        "true_range_smooth = true_range.ewm(span=12, adjust=False).mean()\n",
        "plus_di = (plus_dm_smooth / true_range_smooth) * 100\n",
        "minus_di = (minus_dm_smooth / true_range_smooth) * 100\n",
        "dx = ((plus_di - minus_di).abs()) / ((plus_di + minus_di).abs()) * 100\n",
        "df['adx'] = dx.ewm(span=14, adjust=False).mean()\n",
        "\n",
        "# Next Price (for Y values)\n",
        "\n",
        "df['next_price'] = df['typical_price'].shift(-1)\n",
        "next_diff = df['next_price'] - df['typical_price']\n",
        "df['up_or_down'] = np.where(next_diff > 0, 1, 0)"
      ],
      "execution_count": 3,
      "outputs": []
    },
    {
      "cell_type": "code",
      "metadata": {
        "colab": {
          "base_uri": "https://localhost:8080/"
        },
        "id": "Iaq3BWXic2-4",
        "outputId": "f94d3800-37a8-4eb6-e7e8-b69618276f2a"
      },
      "source": [
        "# Defines X and Y\n",
        "df = df.replace([np.inf, -np.inf], np.nan)\n",
        "df.fillna(method='bfill', inplace=True)\n",
        "\n",
        "X = df[['typical_price', 'money_flow_index', 'rsi', 'typical_price_change_percentage', \n",
        "        'macd_diff', 'sma_cross', 'stochastic_%K', 'stochastic_%D', 'adx',\n",
        "        'kc_upper_band', 'kc_lower_band', 'kumo', 'chaikin_osc', 'ultimate_osc',\n",
        "        'know_sure_thing', 'know_sure_thing_diff', 'balance_of_power',\n",
        "        'bb_upper_band1', 'bb_lower_band1', 'bb_upper_band2', 'bb_lower_band2',\n",
        "        'bb_band_diff1', 'bb_band_diff2', 'bb_price_diff1', 'bb_price_diff2',\n",
        "        ]]\n",
        "       \n",
        "Y = df[['up_or_down']]\n",
        "\n",
        "# Normalizes X\n",
        "input_scaler = MinMaxScaler()\n",
        "input_scaler.fit(X)\n",
        "X = input_scaler.transform(X)\n",
        "\n",
        "# Converts Y to a NumPy array\n",
        "Y = Y.to_numpy()\n",
        "\n",
        "print(X.shape)\n",
        "print(Y.shape)"
      ],
      "execution_count": 4,
      "outputs": [
        {
          "output_type": "stream",
          "text": [
            "(200000, 25)\n",
            "(200000, 1)\n"
          ],
          "name": "stdout"
        }
      ]
    },
    {
      "cell_type": "code",
      "metadata": {
        "colab": {
          "base_uri": "https://localhost:8080/"
        },
        "id": "kpPGkrvDbmwz",
        "outputId": "b52ca725-7f67-42bc-8ce7-d6cd57e595d9"
      },
      "source": [
        "# Prepares the training data for LSTM\n",
        "\n",
        "X_LSTM = []\n",
        "for i in range(99, X.shape[0]):\n",
        "  X_LSTM.append(X[(i - 99):(i + 1)])\n",
        "X_LSTM = np.array(X_LSTM)\n",
        "print(X_LSTM.shape)\n",
        "\n",
        "Y_LSTM = []\n",
        "for i in range(99, Y.shape[0]):\n",
        "  Y_LSTM.append(Y[i])\n",
        "Y_LSTM = np.array(Y_LSTM)\n",
        "print(Y_LSTM.shape)"
      ],
      "execution_count": 5,
      "outputs": [
        {
          "output_type": "stream",
          "text": [
            "(199901, 100, 25)\n",
            "(199901, 1)\n"
          ],
          "name": "stdout"
        }
      ]
    },
    {
      "cell_type": "code",
      "metadata": {
        "colab": {
          "base_uri": "https://localhost:8080/"
        },
        "id": "41KjZ-BXkpPL",
        "outputId": "8a9ea36e-7e97-4133-805f-dcf76db27b49"
      },
      "source": [
        "# Builds and runs the neural network\n",
        "\n",
        "early_stopping = tf.keras.callbacks.EarlyStopping(patience=3,\n",
        "                                                  monitor=\"val_loss\", \n",
        "                                                  restore_best_weights=True)\n",
        "\n",
        "model_checkpoint = tf.keras.callbacks.ModelCheckpoint('drive/My Drive/trading_assistant',\n",
        "                                                      save_best_only=True)\n",
        "\n",
        "\n",
        "model = tf.keras.Sequential([tf.keras.layers.BatchNormalization(),\n",
        "                             tf.keras.layers.LSTM(50, return_sequences=True),\n",
        "                             tf.keras.layers.LSTM(50),\n",
        "                             tf.keras.layers.Dense(50),\n",
        "                             tf.keras.layers.BatchNormalization(),\n",
        "                             tf.keras.layers.Activation('relu'),                       \n",
        "                             tf.keras.layers.Dense(1, activation='sigmoid')\n",
        "                             ])\n",
        "\n",
        "model.compile(optimizer='adam',\n",
        "              loss='binary_crossentropy',\n",
        "              metrics=['binary_accuracy']\n",
        "              )\n",
        "\n",
        "model.fit(X_LSTM, Y_LSTM,\n",
        "          batch_size=64,\n",
        "          epochs=100,\n",
        "          callbacks=[early_stopping],\n",
        "          validation_split=0.1,\n",
        "          )"
      ],
      "execution_count": 6,
      "outputs": [
        {
          "output_type": "stream",
          "text": [
            "Epoch 1/100\n",
            "2812/2812 [==============================] - 44s 13ms/step - loss: 0.6821 - binary_accuracy: 0.5507 - val_loss: 0.7221 - val_binary_accuracy: 0.5933\n",
            "Epoch 2/100\n",
            "2812/2812 [==============================] - 36s 13ms/step - loss: 0.6509 - binary_accuracy: 0.6215 - val_loss: 0.6501 - val_binary_accuracy: 0.6212\n",
            "Epoch 3/100\n",
            "2812/2812 [==============================] - 36s 13ms/step - loss: 0.6504 - binary_accuracy: 0.6232 - val_loss: 0.6609 - val_binary_accuracy: 0.6099\n",
            "Epoch 4/100\n",
            "2812/2812 [==============================] - 35s 13ms/step - loss: 0.6484 - binary_accuracy: 0.6246 - val_loss: 0.6611 - val_binary_accuracy: 0.6097\n",
            "Epoch 5/100\n",
            "2812/2812 [==============================] - 35s 12ms/step - loss: 0.6495 - binary_accuracy: 0.6243 - val_loss: 0.6485 - val_binary_accuracy: 0.6238\n",
            "Epoch 6/100\n",
            "2812/2812 [==============================] - 35s 12ms/step - loss: 0.6466 - binary_accuracy: 0.6269 - val_loss: 0.6501 - val_binary_accuracy: 0.6249\n",
            "Epoch 7/100\n",
            "2812/2812 [==============================] - 34s 12ms/step - loss: 0.6478 - binary_accuracy: 0.6269 - val_loss: 0.6643 - val_binary_accuracy: 0.6179\n",
            "Epoch 8/100\n",
            "2812/2812 [==============================] - 36s 13ms/step - loss: 0.6460 - binary_accuracy: 0.6286 - val_loss: 0.6512 - val_binary_accuracy: 0.6233\n"
          ],
          "name": "stdout"
        },
        {
          "output_type": "execute_result",
          "data": {
            "text/plain": [
              "<tensorflow.python.keras.callbacks.History at 0x7f64a5017518>"
            ]
          },
          "metadata": {
            "tags": []
          },
          "execution_count": 6
        }
      ]
    },
    {
      "cell_type": "code",
      "metadata": {
        "colab": {
          "base_uri": "https://localhost:8080/"
        },
        "id": "569O-utRNCpC",
        "outputId": "956628a8-6289-4877-be34-5f3a504464d4"
      },
      "source": [
        "X_predict = X_LSTM[-1, :, :]\n",
        "X_predict = np.expand_dims(X_predict, axis=0)\n",
        "prediction = model.predict(X_predict)\n",
        "print(np.where(prediction[0] > 0.50, 'Bullish', 'Bearish'))"
      ],
      "execution_count": 7,
      "outputs": [
        {
          "output_type": "stream",
          "text": [
            "['Bearish']\n"
          ],
          "name": "stdout"
        }
      ]
    }
  ]
}